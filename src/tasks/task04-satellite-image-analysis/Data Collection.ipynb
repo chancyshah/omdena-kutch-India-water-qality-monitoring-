{
  "cells": [
    {
      "cell_type": "markdown",
      "metadata": {
        "id": "nXigFJJmFT6H"
      },
      "source": [
        "## Install the library"
      ]
    },
    {
      "cell_type": "code",
      "execution_count": null,
      "metadata": {
        "id": "cHg2x69pRTUI"
      },
      "outputs": [],
      "source": [
        "!pip install geemap"
      ]
    },
    {
      "cell_type": "markdown",
      "metadata": {
        "id": "akSzkNnjDjjj"
      },
      "source": [
        "## Import the Libraries"
      ]
    },
    {
      "cell_type": "code",
      "execution_count": null,
      "metadata": {
        "id": "mROxqOGXRodj"
      },
      "outputs": [],
      "source": [
        "import os\n",
        "import ee\n",
        "import geemap\n",
        "import ipywidgets as widgets\n",
        "import pandas as pd\n",
        "import numpy as np"
      ]
    },
    {
      "cell_type": "markdown",
      "metadata": {
        "id": "vHcQKgMgDvLH"
      },
      "source": [
        "## Authenticate and Initialise with your account associated with Google Earth Engine"
      ]
    },
    {
      "cell_type": "code",
      "execution_count": null,
      "metadata": {
        "id": "OZ6iWsupRr5o"
      },
      "outputs": [],
      "source": [
        "ee.Authenticate()\n",
        "ee.Initialize()"
      ]
    },
    {
      "cell_type": "markdown",
      "metadata": {
        "id": "TIOjvIVuD5Sy"
      },
      "source": [
        "## Data Range"
      ]
    },
    {
      "cell_type": "code",
      "execution_count": null,
      "metadata": {
        "id": "Fg3ayqP9Rva2"
      },
      "outputs": [],
      "source": [
        "start_date = '2021-01-01'\n",
        "end_date = '2021-06-30'"
      ]
    },
    {
      "cell_type": "markdown",
      "metadata": {
        "id": "RARrenw0D8zm"
      },
      "source": [
        "# Finding water quality parameters"
      ]
    },
    {
      "cell_type": "markdown",
      "metadata": {
        "id": "oUu5vU3_EBLs"
      },
      "source": [
        "## Sentinel-2A"
      ]
    },
    {
      "cell_type": "markdown",
      "metadata": {},
      "source": [
        "### Rastar to Vector Conversion"
      ]
    },
    {
      "cell_type": "code",
      "execution_count": null,
      "metadata": {},
      "outputs": [],
      "source": [
        "Map = geemap.Map()\n",
        "\n",
        "geometry = ee.Geometry.Point([72.6026,23.0063])\n",
        "image = ee.ImageCollection(\"COPERNICUS/S2_SR\") \\\n",
        "            .filterBounds(geometry) \\\n",
        "            .filter(ee.Filter.lte('CLOUDY_PIXEL_PERCENTAGE',20)) \\\n",
        "            .first()\n",
        "# Create an NDWI image, define visualization parameters and display.\n",
        "ndwi = image.normalizedDifference(['B3', 'B8'])\n",
        "# Mask the non-watery parts of the image, where NDWI < 0.4.\n",
        "ndwiMasked = ndwi.updateMask(ndwi.gte(0.4))\n",
        "ndwiMasked1= ndwiMasked.toInt()\n",
        "vectors = ndwiMasked1.reduceToVectors(scale = 30.0, geometryType = 'polygon', eightConnected = False, maxPixels = 10000000, bestEffort=True)\n"
      ]
    },
    {
      "cell_type": "code",
      "execution_count": null,
      "metadata": {
        "id": "rM2ybOBbRvYA"
      },
      "outputs": [],
      "source": [
        "\n",
        "\n",
        "# Kankaria Lake, Ahmedabad\n",
        "\n",
        "geometry = ee.Geometry.Point([72.6026,23.0063])\n",
        "\n",
        "\n",
        "\n",
        "Map.addLayer(geometry)\n",
        "sentinel = ee.ImageCollection(\"COPERNICUS/S2_SR\").filterBounds(vectors) \\\n",
        "               .filterDate(start_date,end_date) \\\n",
        "               .filter(ee.Filter.lt('CLOUDY_PIXEL_PERCENTAGE',20)) \\\n",
        "               .median()\n",
        "\n",
        "\n",
        "mndwi = sentinel.normalizedDifference(['B3','B11']).rename('mndwi')\n",
        "mndwitr = mndwi.gt(0)\n",
        "ndsi = sentinel.normalizedDifference(['B11','B12']).rename('ndsi')\n",
        "ndti = sentinel.normalizedDifference(['B4','B3']).rename('ndti')\n",
        "\n",
        "ndci = sentinel.normalizedDifference(['B5','B4']).rename('ndci')\n",
        "\n",
        "\n",
        "ph  = ee.Image(8.339).subtract(ee.Image(0.827).multiply(sentinel.select('B1').divide(sentinel.select('B8')))).rename('ph')\n",
        "\n",
        "dissolvedoxygen  = ee.Image(-0.0167).multiply(sentinel.select('B8')).add(ee.Image(0.0067).multiply(sentinel.select('B9'))).add(ee.Image(0.0083).multiply(sentinel.select('B11'))).add(ee.Image(9.577)).rename('dissolvedoxygen')\n"
      ]
    },
    {
      "cell_type": "markdown",
      "metadata": {
        "id": "uOXuNFB0EGPO"
      },
      "source": [
        "### Landsat-8"
      ]
    },
    {
      "cell_type": "code",
      "execution_count": null,
      "metadata": {
        "id": "DAUeyxcvmpvF"
      },
      "outputs": [],
      "source": [
        "col = ee.ImageCollection('LANDSAT/LC08/C02/T1_L2') \\\n",
        ".filterDate(start_date,end_date) \\\n",
        ".filterBounds(vectors).median()\n",
        "\n",
        "temp  = col.select('ST_B.*').multiply(0.00341802).add(149.0).subtract(273.15).rename('temp')\n",
        "\n"
      ]
    },
    {
      "cell_type": "markdown",
      "metadata": {
        "id": "fQ2Edl3jtf9B"
      },
      "source": [
        "### Sentinel-3"
      ]
    },
    {
      "cell_type": "markdown",
      "metadata": {
        "id": "8Xgcktd3kJAP"
      },
      "source": [
        "### Test Data"
      ]
    },
    {
      "cell_type": "code",
      "execution_count": null,
      "metadata": {
        "id": "OsoVcJJkWdcx"
      },
      "outputs": [],
      "source": [
        "starting = '2021-01-01'\n",
        "ending = '2021-08-31'\n",
        "\n",
        "data = ee.ImageCollection('COPERNICUS/S3/OLCI').filterDate(starting, ending).filterBounds(vectors)\n",
        "\n",
        "rgb = data.select(['Oa08_radiance', 'Oa06_radiance', 'Oa04_radiance'])\\\n",
        "              .median().multiply(ee.Image([0.00876539, 0.0123538, 0.0115198])).clip(vectors)\n",
        "dm_2021_Jan_August_test = rgb.select('Oa08_radiance').divide(rgb.select('Oa04_radiance')).rename('dom')\n",
        "suspended_matter_2021_Jan_August_test= rgb.select('Oa08_radiance').divide(rgb.select('Oa06_radiance')).rename('suspended_matter')\n",
        "\n",
        "\n",
        "latlon = ee.Image.pixelLonLat().addBands(dm_2021_Jan_August_test)\n",
        "# apply reducer to list\n",
        "latlon = latlon.reduceRegion(\n",
        "  reducer=ee.Reducer.toList(),\n",
        "  geometry=vectors,\n",
        "  scale=100,\n",
        "  tileScale = 16);\n",
        "# get data into three different arrays\n",
        "data_dom_2021_Jan_August_test = np.array((ee.Array(latlon.get(\"dom\")).getInfo()))\n",
        "\n",
        "latlon = ee.Image.pixelLonLat().addBands(suspended_matter_2021_Jan_August_test)\n",
        "# apply reducer to list\n",
        "latlon = latlon.reduceRegion(\n",
        "  reducer=ee.Reducer.toList(),\n",
        "  geometry=vectors,\n",
        "  scale=100,\n",
        "  tileScale = 16);\n",
        "# get data into three different arrays\n",
        "data_sm_2021_Jan_August_test= np.array((ee.Array(latlon.get(\"suspended_matter\")).getInfo()))"
      ]
    },
    {
      "cell_type": "markdown",
      "metadata": {
        "id": "Q7o3hpe_kHBG"
      },
      "source": [
        "### Training Data"
      ]
    },
    {
      "cell_type": "code",
      "execution_count": null,
      "metadata": {
        "id": "mFH-YyvPnNvI"
      },
      "outputs": [],
      "source": [
        "start1 = '2021-01-01'\n",
        "end1 = '2021-06-30'"
      ]
    },
    {
      "cell_type": "code",
      "execution_count": null,
      "metadata": {
        "id": "G8Tgvf5jnOb1"
      },
      "outputs": [],
      "source": [
        "data = ee.ImageCollection('COPERNICUS/S3/OLCI').filterDate(start1, end1).filterBounds(vectors)\n",
        "\n",
        "rgb = data.select(['Oa08_radiance', 'Oa06_radiance', 'Oa04_radiance'])\\\n",
        "              .median().multiply(ee.Image([0.00876539, 0.0123538, 0.0115198])).clip(vectors)\n",
        "dm_2021_Jan_June = rgb.select('Oa08_radiance').divide(rgb.select('Oa04_radiance')).rename('dom')\n",
        "suspended_matter__2021_Jan_June = rgb.select('Oa08_radiance').divide(rgb.select('Oa06_radiance')).rename('suspended_matter')\n"
      ]
    },
    {
      "cell_type": "code",
      "execution_count": null,
      "metadata": {
        "id": "VvDImmqPnRhB"
      },
      "outputs": [],
      "source": [
        "latlon = ee.Image.pixelLonLat().addBands(dm_2021_Jan_June)\n",
        "# apply reducer to list\n",
        "latlon = latlon.reduceRegion(\n",
        "  reducer=ee.Reducer.toList(),\n",
        "  geometry=vectors,\n",
        "  scale=100,\n",
        "  tileScale = 16);\n",
        "# get data into three different arrays\n",
        "data_dom_2021_Jan_June = np.array((ee.Array(latlon.get(\"dom\")).getInfo()))"
      ]
    },
    {
      "cell_type": "code",
      "execution_count": null,
      "metadata": {
        "id": "PKEObLjnoYkR"
      },
      "outputs": [],
      "source": [
        "latlon = ee.Image.pixelLonLat().addBands(suspended_matter__2021_Jan_June)\n",
        "# apply reducer to list\n",
        "latlon = latlon.reduceRegion(\n",
        "  reducer=ee.Reducer.toList(),\n",
        "  geometry=vectors,\n",
        "  scale=100,\n",
        "  tileScale = 16);\n",
        "# get data into three different arrays\n",
        "data_sm_2021_Jan_June= np.array((ee.Array(latlon.get(\"suspended_matter\")).getInfo()))"
      ]
    },
    {
      "cell_type": "code",
      "execution_count": null,
      "metadata": {
        "id": "i9QaNYiv63kF"
      },
      "outputs": [],
      "source": [
        "start2 = '2021-07-31'\n",
        "end2 = '2021-10-31'\n",
        "\n",
        "data = ee.ImageCollection('COPERNICUS/S3/OLCI').filterDate(start2, end2).filterBounds(vectors)\n",
        "\n",
        "rgb = data.select(['Oa08_radiance', 'Oa06_radiance', 'Oa04_radiance'])\\\n",
        "              .median().multiply(ee.Image([0.00876539, 0.0123538, 0.0115198])).clip(vectors)\n",
        "dm_2021_July_Oct = rgb.select('Oa08_radiance').divide(rgb.select('Oa04_radiance')).rename('dom')\n",
        "suspended_matter__2021_July_Oct = rgb.select('Oa08_radiance').divide(rgb.select('Oa06_radiance')).rename('suspended_matter')\n",
        "\n",
        "latlon = ee.Image.pixelLonLat().addBands(dm_2021_July_Oct)\n",
        "# apply reducer to list\n",
        "latlon = latlon.reduceRegion(\n",
        "  reducer=ee.Reducer.toList(),\n",
        "  geometry=vectors,\n",
        "  scale=100,\n",
        "  tileScale = 16);\n",
        "# get data into three different arrays\n",
        "data_dom_2021_July_Oct = np.array((ee.Array(latlon.get(\"dom\")).getInfo()))\n",
        "\n",
        "latlon = ee.Image.pixelLonLat().addBands(suspended_matter__2021_July_Oct)\n",
        "# apply reducer to list\n",
        "latlon = latlon.reduceRegion(\n",
        "  reducer=ee.Reducer.toList(),\n",
        "  geometry=vectors,\n",
        "  scale=100,\n",
        "  tileScale = 16);\n",
        "# get data into three different arrays\n",
        "data_sm_2021_July_Oct= np.array((ee.Array(latlon.get(\"suspended_matter\")).getInfo()))\n",
        "\n",
        "\n",
        "\n",
        "start3 = '2021-11-30'\n",
        "end3 = '2021-12-31'\n",
        "\n",
        "data = ee.ImageCollection('COPERNICUS/S3/OLCI').filterDate(start3, end3).filterBounds(vectors)\n",
        "\n",
        "rgb = data.select(['Oa08_radiance', 'Oa06_radiance', 'Oa04_radiance'])\\\n",
        "              .median().multiply(ee.Image([0.00876539, 0.0123538, 0.0115198])).clip(vectors)\n",
        "dm_2021_Nov_Dec = rgb.select('Oa08_radiance').divide(rgb.select('Oa04_radiance')).rename('dom')\n",
        "suspended_matter__2021_Nov_Dec = rgb.select('Oa08_radiance').divide(rgb.select('Oa06_radiance')).rename('suspended_matter')\n",
        "\n",
        "latlon = ee.Image.pixelLonLat().addBands(dm_2021_Nov_Dec)\n",
        "# apply reducer to list\n",
        "latlon = latlon.reduceRegion(\n",
        "  reducer=ee.Reducer.toList(),\n",
        "  geometry=vectors,\n",
        "  scale=100,\n",
        "  tileScale = 16);\n",
        "# get data into three different arrays\n",
        "data_dom_2021_Nov_Dec = np.array((ee.Array(latlon.get(\"dom\")).getInfo()))\n",
        "\n",
        "latlon = ee.Image.pixelLonLat().addBands(suspended_matter__2021_Nov_Dec)\n",
        "# apply reducer to list\n",
        "latlon = latlon.reduceRegion(\n",
        "  reducer=ee.Reducer.toList(),\n",
        "  geometry=vectors,\n",
        "  scale=100,\n",
        "  tileScale = 16);\n",
        "# get data into three different arrays\n",
        "data_sm_2021_Nov_Dec = np.array((ee.Array(latlon.get(\"suspended_matter\")).getInfo()))"
      ]
    },
    {
      "cell_type": "markdown",
      "metadata": {
        "id": "r1bwwPqEm_S4"
      },
      "source": [
        "### Temperature Calculation"
      ]
    },
    {
      "cell_type": "code",
      "execution_count": null,
      "metadata": {
        "id": "MG-gH2yOmuYN"
      },
      "outputs": [],
      "source": [
        "latlon = ee.Image.pixelLonLat().addBands(temp)\n",
        "\n",
        "\n",
        "latlon = latlon.reduceRegion(\n",
        "  reducer=ee.Reducer.toList(),\n",
        "  geometry=vectors,\n",
        "  scale=100);\n",
        "\n",
        "data_lst = np.array((ee.Array(latlon.get(\"temp\")).getInfo()))\n",
        "# geemap.ee_to_numpy(dataset, region=geometry)"
      ]
    },
    {
      "cell_type": "markdown",
      "metadata": {
        "id": "DnYuJx-tnA7H"
      },
      "source": [
        "### Turbidity Calculation"
      ]
    },
    {
      "cell_type": "code",
      "execution_count": null,
      "metadata": {
        "id": "mF4IAKtNRvVY"
      },
      "outputs": [],
      "source": [
        "latlon = ee.Image.pixelLonLat().addBands(ndti)\n",
        "# apply reducer to list\n",
        "latlon = latlon.reduceRegion(\n",
        "  reducer=ee.Reducer.toList(),\n",
        "  geometry=vectors,\n",
        "  scale=100);\n",
        "# get data into three different arrays\n",
        "data_ndti = np.array((ee.Array(latlon.get(\"ndti\")).getInfo()))"
      ]
    },
    {
      "cell_type": "markdown",
      "metadata": {
        "id": "Q4mInpBmnCpq"
      },
      "source": [
        "### Salinity Calculation"
      ]
    },
    {
      "cell_type": "code",
      "execution_count": null,
      "metadata": {
        "id": "qGh2Y2XCmjwC"
      },
      "outputs": [],
      "source": [
        "latlon = ee.Image.pixelLonLat().addBands(ndsi)\n",
        "# apply reducer to list\n",
        "latlon = latlon.reduceRegion(\n",
        "  reducer=ee.Reducer.toList(),\n",
        "  geometry=vectors,\n",
        "  scale=100);\n",
        "# get data into three different arrays\n",
        "data_ndsi = np.array((ee.Array(latlon.get(\"ndsi\")).getInfo()))"
      ]
    },
    {
      "cell_type": "markdown",
      "metadata": {
        "id": "LKU-FBTRtxEl"
      },
      "source": [
        "### Chlorophyll Calculation"
      ]
    },
    {
      "cell_type": "code",
      "execution_count": null,
      "metadata": {
        "id": "WIs1ymgwXac4"
      },
      "outputs": [],
      "source": [
        "latlon = ee.Image.pixelLonLat().addBands(ndci)\n",
        "# apply reducer to list\n",
        "latlon = latlon.reduceRegion(\n",
        "  reducer=ee.Reducer.toList(),\n",
        "  geometry=vectors,\n",
        "  scale=100);\n",
        "# get data into three different arrays\n",
        "data_ndci = np.array((ee.Array(latlon.get(\"ndci\")).getInfo()))"
      ]
    },
    {
      "cell_type": "markdown",
      "metadata": {
        "id": "iuKjQfsTt3fg"
      },
      "source": [
        "### Dissolved Oxygen Calculation"
      ]
    },
    {
      "cell_type": "code",
      "execution_count": null,
      "metadata": {
        "id": "bPjTGx6cRvPb"
      },
      "outputs": [],
      "source": [
        "latlon = ee.Image.pixelLonLat().addBands(dissolvedoxygen)\n",
        "# apply reducer to list\n",
        "latlon = latlon.reduceRegion(\n",
        "  reducer=ee.Reducer.toList(),\n",
        "  geometry=vectors,\n",
        "  scale=100,\n",
        "  tileScale = 16);\n",
        "# get data into three different arrays\n",
        "data_do = np.array((ee.Array(latlon.get(\"dissolvedoxygen\")).getInfo()))"
      ]
    },
    {
      "cell_type": "markdown",
      "metadata": {
        "id": "GgeJU1r-uALL"
      },
      "source": [
        "### pH Calculation"
      ]
    },
    {
      "cell_type": "code",
      "execution_count": null,
      "metadata": {
        "id": "q0iaeUDqRvMl"
      },
      "outputs": [],
      "source": [
        "latlon = ee.Image.pixelLonLat().addBands(ph)\n",
        "# apply reducer to list\n",
        "latlon = latlon.reduceRegion(\n",
        "  reducer=ee.Reducer.toList(),\n",
        "  geometry=vectors,\n",
        "  scale=100);\n",
        "# get data into three different arrays\n",
        "data_ph = np.array((ee.Array(latlon.get(\"ph\")).getInfo()))"
      ]
    },
    {
      "cell_type": "markdown",
      "metadata": {
        "id": "4-AuNc4p8JQd"
      },
      "source": [
        "## Concating dissolved organic matter and suspended matter values"
      ]
    },
    {
      "cell_type": "code",
      "execution_count": null,
      "metadata": {
        "id": "vYQNqttT7r7Q"
      },
      "outputs": [],
      "source": [
        "dm = [pd.DataFrame(data_dom_2021_Jan_June, columns = ['Dissolved Organic Matter']),\\\n",
        "      pd.DataFrame(data_dom_2021_July_Oct, columns = ['Dissolved Organic Matter']),\\\n",
        "      pd.DataFrame(data_dom_2021_Nov_Dec, columns = ['Dissolved Organic Matter'])]\n",
        "\n",
        "sm = [pd.DataFrame(data_sm_2021_Jan_June, columns = ['Suspended Matter']),\\\n",
        "      pd.DataFrame(data_sm_2021_July_Oct, columns = ['Suspended Matter']),\\\n",
        "      pd.DataFrame(data_sm_2021_Nov_Dec, columns = ['Suspended Matter'])]\n",
        "data_dom = pd.concat(dm, sort=False, ignore_index=True)\n",
        "data_sm = pd.concat(sm, sort=False, ignore_index=True)"
      ]
    },
    {
      "cell_type": "markdown",
      "metadata": {
        "id": "2TgvZICBE5YC"
      },
      "source": [
        "## Creating Dataframe"
      ]
    },
    {
      "cell_type": "code",
      "execution_count": null,
      "metadata": {
        "id": "7IKrUXIARvJl"
      },
      "outputs": [],
      "source": [
        "df = pd.concat([pd.DataFrame(data_do, columns = ['Dissolved Oxygen']),\\\n",
        "           pd.DataFrame(data_ndsi, columns = ['Salinity']),\\\n",
        "           pd.DataFrame(data_lst, columns = ['Temperature']),\\\n",
        "           pd.DataFrame(data_ph, columns = ['pH']),\\\n",
        "           pd.DataFrame(data_ndti, columns = ['Turbidity']),\\\n",
        "           pd.DataFrame(data_dom, columns = ['Dissolved Organic Matter']),\\\n",
        "           pd.DataFrame(data_sm, columns = ['Suspended Matter']),\\\n",
        "           pd.DataFrame(data_ndci, columns = ['Chlorophyll'])], axis=1, sort=False)"
      ]
    },
    {
      "cell_type": "code",
      "execution_count": null,
      "metadata": {
        "id": "1lY5VzxhRvGv"
      },
      "outputs": [],
      "source": [
        "df"
      ]
    },
    {
      "cell_type": "markdown",
      "metadata": {
        "id": "iXmjpN5jEy3l"
      },
      "source": [
        "## Converting to CSV files"
      ]
    },
    {
      "cell_type": "code",
      "execution_count": null,
      "metadata": {
        "id": "TMBCih2k5kj7"
      },
      "outputs": [],
      "source": [
        "df.to_csv('Data_2021_Tappar_Lake',index=False)"
      ]
    },
    {
      "cell_type": "markdown",
      "metadata": {
        "id": "sfxZEZBgj587"
      },
      "source": [
        "## Test Data"
      ]
    },
    {
      "cell_type": "code",
      "execution_count": null,
      "metadata": {
        "id": "aWqHNZV_5rNN"
      },
      "outputs": [],
      "source": [
        "df2 = pd.concat([pd.DataFrame(data_do, columns = ['Dissolved Oxygen']),\\\n",
        "           pd.DataFrame(data_ndsi, columns = ['Salinity']),\\\n",
        "           pd.DataFrame(data_lst, columns = ['Temperature']),\\\n",
        "           pd.DataFrame(data_ph, columns = ['pH']),\\\n",
        "           pd.DataFrame(data_ndti, columns = ['Turbidity']),\\\n",
        "           pd.DataFrame(data_dom_2021_Jan_August_test, columns = ['Dissolved Organic Matter']),\\\n",
        "           pd.DataFrame(data_sm_2021_Jan_August_test, columns = ['Suspended Matter']),\\\n",
        "           pd.DataFrame(data_ndci, columns = ['Chlorophyll'])], axis=1, sort=False)\n",
        "df2.head()\n",
        "df2.to_csv('Test_Data_2021_Jan_August_Kankaria_Lake',index=False)"
      ]
    }
  ],
  "metadata": {
    "colab": {
      "name": "Water_Quality_parameters_Shinai_Lake.ipynb",
      "provenance": []
    },
    "kernelspec": {
      "display_name": "Python 3",
      "name": "python3"
    },
    "language_info": {
      "name": "python"
    }
  },
  "nbformat": 4,
  "nbformat_minor": 0
}
